{
 "cells": [
  {
   "cell_type": "markdown",
   "metadata": {},
   "source": [
    "First we inport our libraries:"
   ]
  },
  {
   "cell_type": "code",
   "execution_count": 31,
   "metadata": {},
   "outputs": [],
   "source": [
    "import scipy\n",
    "from scipy.integrate import quad\n",
    "from scipy import optimize\n",
    "import matplotlib.pyplot as plt\n",
    "import numpy as np"
   ]
  },
  {
   "cell_type": "markdown",
   "metadata": {},
   "source": [
    "The determinant, $$\\frac{d\\phi}{dr}=\\pm\\frac{b}{\\sqrt{r^4-b^2(r^2-2Mr)}}$$, we can call radial potential, the function for which is"
   ]
  },
  {
   "cell_type": "code",
   "execution_count": 32,
   "metadata": {},
   "outputs": [],
   "source": [
    "def radial_potential(r, b):\n",
    "  return r**4 - b**2*r**2 + 2*b**2*r"
   ]
  },
  {
   "cell_type": "markdown",
   "metadata": {},
   "source": [
    "Now we make a function that intakes an r and a b value and returns $\\frac{d\\phi}{dr}$, using the radial potential function from before in the sqaure root."
   ]
  },
  {
   "cell_type": "code",
   "execution_count": 33,
   "metadata": {},
   "outputs": [],
   "source": [
    "def d_phi_dr(r, b):\n",
    "  return b / np.sqrt(radial_potential(r, b))"
   ]
  },
  {
   "cell_type": "markdown",
   "metadata": {},
   "source": [
    "We know that the integral $$\\phi=\\int\\frac{d\\phi}{dr}dr$$ how we get $\\phi$. In code bellow is exactly that in code, quad is an integral of (function, lower bound, upper bound, input value). So we are integrating $\\frac{d\\phi}{dr}$ at b from rs to infinity."
   ]
  },
  {
   "cell_type": "code",
   "execution_count": 34,
   "metadata": {},
   "outputs": [],
   "source": [
    "def phi(rs, b):\n",
    "  return quad(d_phi_dr, rs, np.inf, args=(b))"
   ]
  },
  {
   "cell_type": "markdown",
   "metadata": {},
   "source": [
    "Now we can draw our first trajectory! Here we define a few variables, b is the impact parameter\n",
    "<img src=\"https://upload.wikimedia.org/wikipedia/commons/0/0c/Impctprmtr.png\" alt=\"drawing\" width=\"200\" height=\"200\"/>\n",
    ", rs is the minimum radius of circular orbits, rmax is the maximum radius we are graphing and steps is a resolution of the graph."
   ]
  },
  {
   "cell_type": "code",
   "execution_count": 35,
   "metadata": {},
   "outputs": [
    {
     "data": {
      "image/png": "[encoded data removed]",
      "text/plain": [
       "<Figure size 432x288 with 1 Axes>"
      ]
     },
     "metadata": {
      "needs_background": "light"
     },
     "output_type": "display_data"
    }
   ],
   "source": [
    "b = 4\n",
    "steps = 100\n",
    "rs = 3\n",
    "rmax = 10\n",
    "# creating a list of coordinate values\n",
    "coords = [[step*(rmax-rs)/steps+rs, phi(step*(rmax-rs)/steps+rs, b)[0]] for step in range(0,steps)]\n",
    "x_vals = list(map(lambda x: x[0]*np.cos(x[1]),coords))\n",
    "y_vals = list(map(lambda x: x[0]*np.sin(x[1]),coords))\n",
    "plt.plot(x_vals, y_vals, 'b')\n",
    "#will show one trajectory at b=4 in spacetime\n",
    "plt.show()"
   ]
  },
  {
   "cell_type": "markdown",
   "metadata": {},
   "source": [
    "This function will have a turning point, a point where the first derivative is zero. This leads us to choosing a different parameterization to "
   ]
  },
  {
   "cell_type": "code",
   "execution_count": 37,
   "metadata": {},
   "outputs": [],
   "source": [
    "#choosing an alternate parametrization to get around the turning point of the function as he says.\n",
    "def d_phi_dx(x, b, rt):\n",
    "  return -2*b*np.abs(x) / \\\n",
    "    (\n",
    "        (x**2+rt) * np.sqrt(-((b**2*(-2+x**2+rt)) / (x**2+rt)) + (x**2+rt)**2)\n",
    "    )"
   ]
  },
  {
   "cell_type": "markdown",
   "metadata": {},
   "source": [
    "minrs..."
   ]
  },
  {
   "cell_type": "code",
   "execution_count": 36,
   "metadata": {},
   "outputs": [],
   "source": [
    "def minrs(b):\n",
    "  temp = np.cbrt(b**2)*((-1 + np.sqrt(1+0j-b**2/27))**(1/3)+(-1 - np.sqrt(1+0j-b**2/27))**(1/3))\n",
    "  return np.real(temp).real if np.imag(temp) < 1e-10 else 0"
   ]
  },
  {
   "cell_type": "code",
   "execution_count": 38,
   "metadata": {},
   "outputs": [],
   "source": [
    "def phi(xi, b):\n",
    "  rt = minrs(b)\n",
    "  if xi.imag != 0:\n",
    "    return np.inf\n",
    "  if rt == 0 and xi <0:\n",
    "    return quad(d_phi_dx, np.inf, 0, args=(b,rt))\n",
    "  return quad(d_phi_dx, np.inf, xi, args=(b,rt))"
   ]
  },
  {
   "cell_type": "code",
   "execution_count": 39,
   "metadata": {},
   "outputs": [],
   "source": [
    "#looping through many b values and making a trajectory\n",
    "def generate_trajectory(ximin, ximax, b, steps):\n",
    "  rt = minrs(b)\n",
    "  coords = np.ndarray([steps,2])\n",
    "  for step in range(steps):\n",
    "    xi = step*(ximax - ximin)/steps + ximin\n",
    "    rs = 0 if rt == 0 and xi < 0 else (xi**2 + rt)\n",
    "    coords[step][0] = rs\n",
    "    coords[step][1] =  phi(xi, b)[0]\n",
    "  x_vals = list(map(lambda x: x[0]*np.cos(x[1]),coords))\n",
    "  y_vals = list(map(lambda x: x[0]*np.sin(x[1]),coords))\n",
    "  return x_vals, y_vals"
   ]
  },
  {
   "cell_type": "code",
   "execution_count": 40,
   "metadata": {},
   "outputs": [
    {
     "data": {
      "image/png": "[encoded data removed]",
      "text/plain": [
       "<Figure size 432x288 with 1 Axes>"
      ]
     },
     "metadata": {
      "needs_background": "light"
     },
     "output_type": "display_data"
    }
   ],
   "source": [
    "binit = 1\n",
    "bfinal = 5\n",
    "ncurves = 10\n",
    "\n",
    "for i in range(ncurves):\n",
    "  plt.plot(*generate_trajectory(1, 3, i*(bfinal-binit)/ncurves + binit, 100), 'b')\n",
    "\n",
    "#just making the graph look nice with a black circle and a good scale\n",
    "plt.xlim([-5, 5])\n",
    "plt.ylim([-5, 5])\n",
    "ax = plt.gca()\n",
    "ax.set_aspect(1)\n",
    "ax.add_patch(plt.Circle((0, 0), 2, color='k', zorder=10))\n",
    "#will show \"ncurves\" many trajectories along with the black hole in the center.\n",
    "plt.show()"
   ]
  },
  {
   "cell_type": "code",
   "execution_count": 41,
   "metadata": {},
   "outputs": [],
   "source": [
    "#next to make the accretion disk\n",
    "def psi(phi, theta):\n",
    "  return np.arccos(np.sin(theta)*np.sin(phi))"
   ]
  },
  {
   "cell_type": "code",
   "execution_count": 42,
   "metadata": {},
   "outputs": [],
   "source": [
    "def varphi(phi, theta):\n",
    "  return np.arccos(np.cos(phi)/(np.sqrt(np.cos(phi)**2 + np.cos(theta)**2*np.sin(phi)**2)))"
   ]
  },
  {
   "cell_type": "markdown",
   "metadata": {},
   "source": [
    "Next, looking ahead, we'll have a lot of complex and imaginary numbers. Using numpy with these numbers is supported, but they give warnings since most people don't want negatives in their sqaure roots. I will suppress those warnings."
   ]
  },
  {
   "cell_type": "code",
   "execution_count": 43,
   "metadata": {
    "scrolled": true
   },
   "outputs": [
    {
     "data": {
      "image/png": "[encoded data removed]",
      "text/plain": [
       "<Figure size 432x288 with 1 Axes>"
      ]
     },
     "metadata": {
      "needs_background": "light"
     },
     "output_type": "display_data"
    }
   ],
   "source": [
    "import warnings\n",
    "warnings.filterwarnings('ignore')\n",
    "\n",
    "steps = 2000\n",
    "theta = 85*np.pi/180\n",
    "rmin = 5\n",
    "rmax = 25\n",
    "rsteps = 5\n",
    "\n",
    "#n is the amount of intersections the trajectory has with the accretion disk\n",
    "#n = 0\n",
    "for rs in range(rmin, rmax, rsteps):\n",
    "  bmax = np.sqrt(rs**3/ (rs-2))+1\n",
    "  phivals = np.linspace(0.0001*np.pi,2*np.pi*0.9999,num=steps)\n",
    "  varphivals = np.array([np.pi if phi >= np.pi else 0 for phi in phivals])+np.arccos(np.sign(np.pi-phivals)*np.cos(phivals)/np.sqrt(np.cos(phivals)**2 +np.sin(phivals)**2*np.cos(theta)**2))\n",
    "  psivals1 = np.array([psi(phi, theta) for phi in phivals])\n",
    "  psivals2 = np.array([[phi(np.sqrt(rs - minrs(b)), b)[0],b] for b in np.linspace(0,bmax,num=steps)])\n",
    "  psivals3 = np.array([[phi(-np.sqrt(rs - minrs(b)), b)[0],b] for b in np.linspace(3,bmax,num=steps)])\n",
    "  bvals = np.array([min([min(psivals2, key=lambda x:abs(x[0]-psi)), min(psivals3, key=lambda x:abs(x[0]-psi))], key=lambda x:abs(x[0]-psi ))[1] for psi in psivals1])\n",
    "  alphavals = (bvals) * np.cos(varphivals)\n",
    "  betavals = -(bvals) * np.sin(varphivals)\n",
    "  plt.plot(alphavals, betavals, 'b', zorder=9)\n",
    "\n",
    "\n",
    "#n=1    \n",
    "for rs in range(rmin, rmax, rsteps):\n",
    "  bmax = np.sqrt(rs**3/ (rs-2))+1\n",
    "  phivals = np.linspace(0.001*np.pi,2*np.pi*0.999,num=steps)\n",
    "  varphivals = np.array([np.pi if phi >= np.pi else 0 for phi in phivals])+np.arccos(np.sign(np.pi-phivals)*np.cos(phivals)/np.sqrt(np.cos(phivals)**2 +np.sin(phivals)**2*np.cos(theta)**2))\n",
    "  psivals1 = np.pi + np.array([psi(phi, theta) for phi in phivals]) # n=1 is pi degrees away from n=0\n",
    "  psivals2 = np.array([[phi(-np.sqrt(rs - minrs(b)), b)[0],b] for b in np.linspace(5,bmax,num=steps)])\n",
    "  psivals3 = np.array([[phi(-np.sqrt(rs - minrs(b)), b)[0],b] for b in np.linspace(5,bmax,num=steps)])\n",
    "  bvals = np.array([min([min(psivals2, key=lambda x:abs(x[0]-psi)), min(psivals3, key=lambda x:abs(x[0]-psi))], key=lambda x:abs(x[0]-psi ))[1] for psi in psivals1])\n",
    "  alphavals = (bvals) * np.cos(varphivals)\n",
    "  betavals = -(bvals) * np.sin(varphivals)\n",
    "  plt.plot(alphavals, betavals, 'g', zorder=8)\n",
    "\n",
    "\n",
    "#n=2    \n",
    "for rs in range(rmin, rmax, rsteps):\n",
    "  bmax = np.sqrt(rs**3/ (rs-2))+1\n",
    "  phivals = np.linspace(0.001*np.pi,2*np.pi*0.999,num=steps)\n",
    "  varphivals = np.array([np.pi if phi >= np.pi else 0 for phi in phivals])+np.arccos(np.sign(np.pi-phivals)*np.cos(phivals)/np.sqrt(np.cos(phivals)**2 +np.sin(phivals)**2*np.cos(theta)**2))\n",
    "  psivals1 = 2*np.pi + np.array([psi(phi, theta) for phi in phivals]) # n=2 is 2pi degrees away from n=0\n",
    "  psivals2 = np.array([[phi(-np.sqrt(rs - minrs(b)), b)[0],b] for b in np.linspace(5,bmax,num=steps)])\n",
    "  psivals3 = np.array([[phi(-np.sqrt(rs - minrs(b)), b)[0],b] for b in np.linspace(5,bmax,num=steps)])\n",
    "  bvals = np.array([min([min(psivals2, key=lambda x:abs(x[0]-psi)), min(psivals3, key=lambda x:abs(x[0]-psi))], key=lambda x:abs(x[0]-psi ))[1] for psi in psivals1])\n",
    "  alphavals = (bvals) * np.cos(varphivals)\n",
    "  betavals = -(bvals) * np.sin(varphivals)\n",
    "  plt.plot(alphavals, betavals, 'r', zorder=7)\n",
    "\n",
    "\n",
    "ax = plt.gca()   \n",
    "ax.add_patch(plt.Circle((0, 0), np.sqrt(27), color='k', zorder=8))\n",
    "\n",
    "\n",
    "ax.set_aspect(1)\n",
    "\n",
    "#will show the completed project!\n",
    "plt.show()"
   ]
  },
  {
   "cell_type": "code",
   "execution_count": null,
   "metadata": {},
   "outputs": [],
   "source": []
  }
 ],
 "metadata": {
  "kernelspec": {
   "display_name": "Python 3",
   "language": "python",
   "name": "python3"
  },
  "language_info": {
   "codemirror_mode": {
    "name": "ipython",
    "version": 3
   },
   "file_extension": ".py",
   "mimetype": "text/x-python",
   "name": "python",
   "nbconvert_exporter": "python",
   "pygments_lexer": "ipython3",
   "version": "3.7.0"
  }
 },
 "nbformat": 4,
 "nbformat_minor": 2
}
